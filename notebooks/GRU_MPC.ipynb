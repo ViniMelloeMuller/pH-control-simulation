{
 "cells": [
  {
   "cell_type": "code",
   "execution_count": 1,
   "id": "edbb56d4-604d-437a-86ed-4656619cc53f",
   "metadata": {},
   "outputs": [],
   "source": [
    "import numpy as np \n",
    "from PID import *\n",
    "from tqdm.notebook import tqdm\n",
    "import pickle \n",
    "import time\n",
    "from tensorflow import keras\n",
    "from scipy.optimize import minimize, differential_evolution"
   ]
  },
  {
   "cell_type": "code",
   "execution_count": 5,
   "id": "38489b5a-ab2a-4be0-b0c6-991178f20153",
   "metadata": {},
   "outputs": [],
   "source": [
    "class Scaler:\n",
    "    def __init__(self):\n",
    "        self.min_vals: list[float] = None\n",
    "        self.max_vals: list[float] = None\n",
    "\n",
    "    def fit(self, X_train):\n",
    "        \n",
    "        self.min_vals = np.empty(X_train.shape[-1])\n",
    "        self.max_vals = np.empty(X_train.shape[-1])\n",
    "        \n",
    "        for s in range(X_train.shape[-1]):\n",
    "            self.min_vals[s] = np.min(X_train[:,:,s])\n",
    "            self.max_vals[s] = np.max(X_train[:,:,s])\n",
    "            \n",
    "        return\n",
    "\n",
    "    def transform(self, X):\n",
    "        try:\n",
    "            X_copy = np.copy(X)\n",
    "            for s in range(X_copy.shape[-1]):\n",
    "                X_copy[:,:,s] = (X[:,:,s] - self.min_vals[s]) / (self.max_vals[s] - self.min_vals[s])\n",
    "        except:\n",
    "            raise Execption(\"Not Fited!!!\")\n",
    "            \n",
    "        return X_copy\n",
    "\n",
    "    def __str__(self):\n",
    "        return f\"min_vals:{self.min_vals}\\nmax_vals:{self.max_vals}\"\n",
    "\n",
    "    def __call__(self,X):\n",
    "        return self.transform(X) \n",
    "\n",
    "def PID_controller(y, ysp, nh):\n",
    "    #simple pid warm start\n",
    "    Kc, tau_D, tau_I = 8.4, 30.84, 61.68\n",
    "    u_pid = np.empty(nh)\n",
    "    e_prev = ysp - y[-1]\n",
    "    e_I = 0.0\n",
    "\n",
    "    for i in range(nh):\n",
    "        e = ysp - y[-1]\n",
    "        e_I += e\n",
    "        e_D = e - e_prev\n",
    "        u = Kc*e + tau_D*e_D + 1/tau_I*e_I + u1ss\n",
    "        u_pid[i] = min(max(u, 0.5 * u1ss), 1.5*u1ss)  \n",
    "    return u_pid\n",
    "    \n",
    "def MPC_optimization_GRU(y0, u0, Nc, Np, ysp, model):\n",
    "    k = y0.shape[0]\n",
    "    y = np.copy(y0)\n",
    "    u = np.copy(u0)\n",
    "\n",
    "    bounds = [(0.5 * u1ss, 1.5 * u1ss)] * (Nc)\n",
    "\n",
    "    def f_obj(u_future, u=u, y=y):\n",
    "        u1_future = np.empty(Np)\n",
    "        u1_future[:Nc] = u_future\n",
    "        u1_future[:Nc] = u_future[-1]\n",
    "        \n",
    "        u2_future = np.ones(Np) * u[-1, 1]\n",
    "        u_total = np.vstack((u, np.column_stack((u1_future, u2_future)))) #used for calculating the control effort\n",
    "        y_pred = np.empty(Np)\n",
    "        y_total = np.append(y, y_pred)\n",
    "\n",
    "        for l in range(k, k + Np):\n",
    "            data_input = np.column_stack((u_total[l - k : l], y_total[l - k: l]))\n",
    "            model_input = pre(data_input.reshape(-1, k, 3))\n",
    "            y_pred[l - k] = float(model.predict(model_input, verbose=0)[0,0])\n",
    "            y_total[l] = y_pred[l - k]\n",
    "        \n",
    "        Q, R = 100, 1\n",
    "        ISE = Q * np.sum((y_pred - ysp) ** 2)\n",
    "        EC = R * np.sum((np.diff(u_total[:,0])) ** 2)\n",
    "        return ISE + EC\n",
    "\n",
    "    U0 = PID_controller(y0, ysp, Nc)\n",
    "    u_future = minimize(f_obj, x0=U0, bounds=bounds, method=\"SLSQP\").x\n",
    "\n",
    "    return u_future[0]"
   ]
  },
  {
   "cell_type": "code",
   "execution_count": 3,
   "id": "e221f984-9bc2-4de5-83fd-e57e6ab58f0c",
   "metadata": {},
   "outputs": [
    {
     "name": "stdout",
     "output_type": "stream",
     "text": [
      "File opened\n",
      "window size = 10\n",
      "min_vals:[7.775      0.01110152 3.3693123 ]\n",
      "max_vals:[23.325       4.98501725  9.45994836]\n"
     ]
    }
   ],
   "source": [
    "#simple routine to get the window size\n",
    "with open(\"models/best_model_params.txt\", \"r\") as f:\n",
    "        print(\"File opened\")\n",
    "        for line in f:\n",
    "            if \"window_size\" in line:\n",
    "                key, value = line.split(':')\n",
    "                window_size =  int(value.strip())\n",
    "                print(f\"window size = {window_size}\")\n",
    "\n",
    "\n",
    "with open(\"models/preprocessor.obj\", \"rb\") as f:\n",
    "        pre = pickle.load(f)\n",
    "        print(pre)"
   ]
  },
  {
   "cell_type": "code",
   "execution_count": 4,
   "id": "c2ad2278-86aa-4477-8246-b0fee2f70020",
   "metadata": {},
   "outputs": [
    {
     "data": {
      "text/html": [
       "<pre style=\"white-space:pre;overflow-x:auto;line-height:normal;font-family:Menlo,'DejaVu Sans Mono',consolas,'Courier New',monospace\"><span style=\"font-weight: bold\">Model: \"sequential_6\"</span>\n",
       "</pre>\n"
      ],
      "text/plain": [
       "\u001b[1mModel: \"sequential_6\"\u001b[0m\n"
      ]
     },
     "metadata": {},
     "output_type": "display_data"
    },
    {
     "data": {
      "text/html": [
       "<pre style=\"white-space:pre;overflow-x:auto;line-height:normal;font-family:Menlo,'DejaVu Sans Mono',consolas,'Courier New',monospace\">┏━━━━━━━━━━━━━━━━━━━━━━━━━━━━━━━━━┳━━━━━━━━━━━━━━━━━━━━━━━━┳━━━━━━━━━━━━━━━┓\n",
       "┃<span style=\"font-weight: bold\"> Layer (type)                    </span>┃<span style=\"font-weight: bold\"> Output Shape           </span>┃<span style=\"font-weight: bold\">       Param # </span>┃\n",
       "┡━━━━━━━━━━━━━━━━━━━━━━━━━━━━━━━━━╇━━━━━━━━━━━━━━━━━━━━━━━━╇━━━━━━━━━━━━━━━┩\n",
       "│ gru_6 (<span style=\"color: #0087ff; text-decoration-color: #0087ff\">GRU</span>)                     │ (<span style=\"color: #00d7ff; text-decoration-color: #00d7ff\">None</span>, <span style=\"color: #00af00; text-decoration-color: #00af00\">31</span>)             │         <span style=\"color: #00af00; text-decoration-color: #00af00\">3,348</span> │\n",
       "├─────────────────────────────────┼────────────────────────┼───────────────┤\n",
       "│ dropout_6 (<span style=\"color: #0087ff; text-decoration-color: #0087ff\">Dropout</span>)             │ (<span style=\"color: #00d7ff; text-decoration-color: #00d7ff\">None</span>, <span style=\"color: #00af00; text-decoration-color: #00af00\">31</span>)             │             <span style=\"color: #00af00; text-decoration-color: #00af00\">0</span> │\n",
       "├─────────────────────────────────┼────────────────────────┼───────────────┤\n",
       "│ dense_6 (<span style=\"color: #0087ff; text-decoration-color: #0087ff\">Dense</span>)                 │ (<span style=\"color: #00d7ff; text-decoration-color: #00d7ff\">None</span>, <span style=\"color: #00af00; text-decoration-color: #00af00\">1</span>)              │            <span style=\"color: #00af00; text-decoration-color: #00af00\">32</span> │\n",
       "└─────────────────────────────────┴────────────────────────┴───────────────┘\n",
       "</pre>\n"
      ],
      "text/plain": [
       "┏━━━━━━━━━━━━━━━━━━━━━━━━━━━━━━━━━┳━━━━━━━━━━━━━━━━━━━━━━━━┳━━━━━━━━━━━━━━━┓\n",
       "┃\u001b[1m \u001b[0m\u001b[1mLayer (type)                   \u001b[0m\u001b[1m \u001b[0m┃\u001b[1m \u001b[0m\u001b[1mOutput Shape          \u001b[0m\u001b[1m \u001b[0m┃\u001b[1m \u001b[0m\u001b[1m      Param #\u001b[0m\u001b[1m \u001b[0m┃\n",
       "┡━━━━━━━━━━━━━━━━━━━━━━━━━━━━━━━━━╇━━━━━━━━━━━━━━━━━━━━━━━━╇━━━━━━━━━━━━━━━┩\n",
       "│ gru_6 (\u001b[38;5;33mGRU\u001b[0m)                     │ (\u001b[38;5;45mNone\u001b[0m, \u001b[38;5;34m31\u001b[0m)             │         \u001b[38;5;34m3,348\u001b[0m │\n",
       "├─────────────────────────────────┼────────────────────────┼───────────────┤\n",
       "│ dropout_6 (\u001b[38;5;33mDropout\u001b[0m)             │ (\u001b[38;5;45mNone\u001b[0m, \u001b[38;5;34m31\u001b[0m)             │             \u001b[38;5;34m0\u001b[0m │\n",
       "├─────────────────────────────────┼────────────────────────┼───────────────┤\n",
       "│ dense_6 (\u001b[38;5;33mDense\u001b[0m)                 │ (\u001b[38;5;45mNone\u001b[0m, \u001b[38;5;34m1\u001b[0m)              │            \u001b[38;5;34m32\u001b[0m │\n",
       "└─────────────────────────────────┴────────────────────────┴───────────────┘\n"
      ]
     },
     "metadata": {},
     "output_type": "display_data"
    },
    {
     "data": {
      "text/html": [
       "<pre style=\"white-space:pre;overflow-x:auto;line-height:normal;font-family:Menlo,'DejaVu Sans Mono',consolas,'Courier New',monospace\"><span style=\"font-weight: bold\"> Total params: </span><span style=\"color: #00af00; text-decoration-color: #00af00\">10,142</span> (39.62 KB)\n",
       "</pre>\n"
      ],
      "text/plain": [
       "\u001b[1m Total params: \u001b[0m\u001b[38;5;34m10,142\u001b[0m (39.62 KB)\n"
      ]
     },
     "metadata": {},
     "output_type": "display_data"
    },
    {
     "data": {
      "text/html": [
       "<pre style=\"white-space:pre;overflow-x:auto;line-height:normal;font-family:Menlo,'DejaVu Sans Mono',consolas,'Courier New',monospace\"><span style=\"font-weight: bold\"> Trainable params: </span><span style=\"color: #00af00; text-decoration-color: #00af00\">3,380</span> (13.20 KB)\n",
       "</pre>\n"
      ],
      "text/plain": [
       "\u001b[1m Trainable params: \u001b[0m\u001b[38;5;34m3,380\u001b[0m (13.20 KB)\n"
      ]
     },
     "metadata": {},
     "output_type": "display_data"
    },
    {
     "data": {
      "text/html": [
       "<pre style=\"white-space:pre;overflow-x:auto;line-height:normal;font-family:Menlo,'DejaVu Sans Mono',consolas,'Courier New',monospace\"><span style=\"font-weight: bold\"> Non-trainable params: </span><span style=\"color: #00af00; text-decoration-color: #00af00\">0</span> (0.00 B)\n",
       "</pre>\n"
      ],
      "text/plain": [
       "\u001b[1m Non-trainable params: \u001b[0m\u001b[38;5;34m0\u001b[0m (0.00 B)\n"
      ]
     },
     "metadata": {},
     "output_type": "display_data"
    },
    {
     "data": {
      "text/html": [
       "<pre style=\"white-space:pre;overflow-x:auto;line-height:normal;font-family:Menlo,'DejaVu Sans Mono',consolas,'Courier New',monospace\"><span style=\"font-weight: bold\"> Optimizer params: </span><span style=\"color: #00af00; text-decoration-color: #00af00\">6,762</span> (26.42 KB)\n",
       "</pre>\n"
      ],
      "text/plain": [
       "\u001b[1m Optimizer params: \u001b[0m\u001b[38;5;34m6,762\u001b[0m (26.42 KB)\n"
      ]
     },
     "metadata": {},
     "output_type": "display_data"
    }
   ],
   "source": [
    "noise_scale = .05\n",
    "k = window_size\n",
    "gru = keras.models.load_model(\"models/best_model.keras\")\n",
    "gru.summary()"
   ]
  },
  {
   "cell_type": "code",
   "execution_count": 6,
   "id": "e516214f-0400-479f-b37f-ce8ff79f57c2",
   "metadata": {
    "scrolled": true
   },
   "outputs": [
    {
     "name": "stdout",
     "output_type": "stream",
     "text": [
      "STARTING SERVO CONTROL\n"
     ]
    },
    {
     "data": {
      "application/vnd.jupyter.widget-view+json": {
       "model_id": "d96c88098b52405cbfb0809bd83971dc",
       "version_major": 2,
       "version_minor": 0
      },
      "text/plain": [
       "  0%|          | 0/10 [00:00<?, ?it/s]"
      ]
     },
     "metadata": {},
     "output_type": "display_data"
    },
    {
     "data": {
      "application/vnd.jupyter.widget-view+json": {
       "model_id": "0e7ad1a65ca14d36a0f8ac95dfcf2082",
       "version_major": 2,
       "version_minor": 0
      },
      "text/plain": [
       "  0%|          | 0/390 [00:00<?, ?it/s]"
      ]
     },
     "metadata": {},
     "output_type": "display_data"
    },
    {
     "ename": "KeyboardInterrupt",
     "evalue": "",
     "output_type": "error",
     "traceback": [
      "\u001b[1;31m---------------------------------------------------------------------------\u001b[0m",
      "\u001b[1;31mKeyboardInterrupt\u001b[0m                         Traceback (most recent call last)",
      "Cell \u001b[1;32mIn[6], line 28\u001b[0m\n\u001b[0;32m     26\u001b[0m \u001b[38;5;28;01mfor\u001b[39;00m n \u001b[38;5;129;01min\u001b[39;00m pbar:\n\u001b[0;32m     27\u001b[0m     start \u001b[38;5;241m=\u001b[39m time\u001b[38;5;241m.\u001b[39mprocess_time()\n\u001b[1;32m---> 28\u001b[0m     U \u001b[38;5;241m=\u001b[39m \u001b[43mMPC_optimization_GRU\u001b[49m\u001b[43m(\u001b[49m\n\u001b[0;32m     29\u001b[0m \u001b[43m        \u001b[49m\u001b[43my0\u001b[49m\u001b[38;5;241;43m=\u001b[39;49m\u001b[43mY_gru\u001b[49m\u001b[43m[\u001b[49m\u001b[43mn\u001b[49m\u001b[43m \u001b[49m\u001b[38;5;241;43m-\u001b[39;49m\u001b[43m \u001b[49m\u001b[43mk\u001b[49m\u001b[43m \u001b[49m\u001b[43m:\u001b[49m\u001b[43m \u001b[49m\u001b[43mn\u001b[49m\u001b[43m]\u001b[49m\u001b[43m,\u001b[49m\u001b[43m \u001b[49m\u001b[43mu0\u001b[49m\u001b[38;5;241;43m=\u001b[39;49m\u001b[43mU_gru\u001b[49m\u001b[43m[\u001b[49m\u001b[43mn\u001b[49m\u001b[43m \u001b[49m\u001b[38;5;241;43m-\u001b[39;49m\u001b[43m \u001b[49m\u001b[43mk\u001b[49m\u001b[43m \u001b[49m\u001b[43m:\u001b[49m\u001b[43m \u001b[49m\u001b[43mn\u001b[49m\u001b[43m]\u001b[49m\u001b[43m,\u001b[49m\u001b[43m \u001b[49m\u001b[43mNc\u001b[49m\u001b[38;5;241;43m=\u001b[39;49m\u001b[38;5;241;43m3\u001b[39;49m\u001b[43m,\u001b[49m\u001b[43m \u001b[49m\u001b[43mNp\u001b[49m\u001b[38;5;241;43m=\u001b[39;49m\u001b[38;5;241;43m20\u001b[39;49m\u001b[43m,\u001b[49m\u001b[43m \u001b[49m\u001b[43mysp\u001b[49m\u001b[38;5;241;43m=\u001b[39;49m\u001b[43mysp\u001b[49m\u001b[43m[\u001b[49m\u001b[43mn\u001b[49m\u001b[43m]\u001b[49m\u001b[43m,\u001b[49m\u001b[43m \u001b[49m\u001b[43mmodel\u001b[49m\u001b[38;5;241;43m=\u001b[39;49m\u001b[43mgru\u001b[49m\n\u001b[0;32m     30\u001b[0m \u001b[43m    \u001b[49m\u001b[43m)\u001b[49m\n\u001b[0;32m     31\u001b[0m     U_gru[n, \u001b[38;5;241m0\u001b[39m] \u001b[38;5;241m=\u001b[39m U\n\u001b[0;32m     32\u001b[0m     X_gru[n \u001b[38;5;241m+\u001b[39m \u001b[38;5;241m1\u001b[39m, :] \u001b[38;5;241m=\u001b[39m x_next(X_gru[n], U_gru[n], dt)\n",
      "Cell \u001b[1;32mIn[5], line 77\u001b[0m, in \u001b[0;36mMPC_optimization_GRU\u001b[1;34m(y0, u0, Nc, Np, ysp, model)\u001b[0m\n\u001b[0;32m     74\u001b[0m     \u001b[38;5;28;01mreturn\u001b[39;00m ISE \u001b[38;5;241m+\u001b[39m EC\n\u001b[0;32m     76\u001b[0m U0 \u001b[38;5;241m=\u001b[39m PID_controller(y0, ysp, Nc)\n\u001b[1;32m---> 77\u001b[0m u_future \u001b[38;5;241m=\u001b[39m \u001b[43mminimize\u001b[49m\u001b[43m(\u001b[49m\u001b[43mf_obj\u001b[49m\u001b[43m,\u001b[49m\u001b[43m \u001b[49m\u001b[43mx0\u001b[49m\u001b[38;5;241;43m=\u001b[39;49m\u001b[43mU0\u001b[49m\u001b[43m,\u001b[49m\u001b[43m \u001b[49m\u001b[43mbounds\u001b[49m\u001b[38;5;241;43m=\u001b[39;49m\u001b[43mbounds\u001b[49m\u001b[43m,\u001b[49m\u001b[43m \u001b[49m\u001b[43mmethod\u001b[49m\u001b[38;5;241;43m=\u001b[39;49m\u001b[38;5;124;43m\"\u001b[39;49m\u001b[38;5;124;43mSLSQP\u001b[39;49m\u001b[38;5;124;43m\"\u001b[39;49m\u001b[43m)\u001b[49m\u001b[38;5;241m.\u001b[39mx\n\u001b[0;32m     79\u001b[0m \u001b[38;5;28;01mreturn\u001b[39;00m u_future[\u001b[38;5;241m0\u001b[39m]\n",
      "File \u001b[1;32mc:\\Users\\vinim\\scoop\\apps\\python\\current\\Lib\\site-packages\\scipy\\optimize\\_minimize.py:743\u001b[0m, in \u001b[0;36mminimize\u001b[1;34m(fun, x0, args, method, jac, hess, hessp, bounds, constraints, tol, callback, options)\u001b[0m\n\u001b[0;32m    740\u001b[0m     res \u001b[38;5;241m=\u001b[39m _minimize_cobyqa(fun, x0, args, bounds, constraints, callback,\n\u001b[0;32m    741\u001b[0m                            \u001b[38;5;241m*\u001b[39m\u001b[38;5;241m*\u001b[39moptions)\n\u001b[0;32m    742\u001b[0m \u001b[38;5;28;01melif\u001b[39;00m meth \u001b[38;5;241m==\u001b[39m \u001b[38;5;124m'\u001b[39m\u001b[38;5;124mslsqp\u001b[39m\u001b[38;5;124m'\u001b[39m:\n\u001b[1;32m--> 743\u001b[0m     res \u001b[38;5;241m=\u001b[39m \u001b[43m_minimize_slsqp\u001b[49m\u001b[43m(\u001b[49m\u001b[43mfun\u001b[49m\u001b[43m,\u001b[49m\u001b[43m \u001b[49m\u001b[43mx0\u001b[49m\u001b[43m,\u001b[49m\u001b[43m \u001b[49m\u001b[43margs\u001b[49m\u001b[43m,\u001b[49m\u001b[43m \u001b[49m\u001b[43mjac\u001b[49m\u001b[43m,\u001b[49m\u001b[43m \u001b[49m\u001b[43mbounds\u001b[49m\u001b[43m,\u001b[49m\n\u001b[0;32m    744\u001b[0m \u001b[43m                          \u001b[49m\u001b[43mconstraints\u001b[49m\u001b[43m,\u001b[49m\u001b[43m \u001b[49m\u001b[43mcallback\u001b[49m\u001b[38;5;241;43m=\u001b[39;49m\u001b[43mcallback\u001b[49m\u001b[43m,\u001b[49m\u001b[43m \u001b[49m\u001b[38;5;241;43m*\u001b[39;49m\u001b[38;5;241;43m*\u001b[39;49m\u001b[43moptions\u001b[49m\u001b[43m)\u001b[49m\n\u001b[0;32m    745\u001b[0m \u001b[38;5;28;01melif\u001b[39;00m meth \u001b[38;5;241m==\u001b[39m \u001b[38;5;124m'\u001b[39m\u001b[38;5;124mtrust-constr\u001b[39m\u001b[38;5;124m'\u001b[39m:\n\u001b[0;32m    746\u001b[0m     res \u001b[38;5;241m=\u001b[39m _minimize_trustregion_constr(fun, x0, args, jac, hess, hessp,\n\u001b[0;32m    747\u001b[0m                                        bounds, constraints,\n\u001b[0;32m    748\u001b[0m                                        callback\u001b[38;5;241m=\u001b[39mcallback, \u001b[38;5;241m*\u001b[39m\u001b[38;5;241m*\u001b[39moptions)\n",
      "File \u001b[1;32mc:\\Users\\vinim\\scoop\\apps\\python\\current\\Lib\\site-packages\\scipy\\optimize\\_slsqp_py.py:434\u001b[0m, in \u001b[0;36m_minimize_slsqp\u001b[1;34m(func, x0, args, jac, bounds, constraints, maxiter, ftol, iprint, disp, eps, callback, finite_diff_rel_step, **unknown_options)\u001b[0m\n\u001b[0;32m    428\u001b[0m slsqp(m, meq, x, xl, xu, fx, c, g, a, acc, majiter, mode, w, jw,\n\u001b[0;32m    429\u001b[0m       alpha, f0, gs, h1, h2, h3, h4, t, t0, tol,\n\u001b[0;32m    430\u001b[0m       iexact, incons, ireset, itermx, line,\n\u001b[0;32m    431\u001b[0m       n1, n2, n3)\n\u001b[0;32m    433\u001b[0m \u001b[38;5;28;01mif\u001b[39;00m mode \u001b[38;5;241m==\u001b[39m \u001b[38;5;241m1\u001b[39m:  \u001b[38;5;66;03m# objective and constraint evaluation required\u001b[39;00m\n\u001b[1;32m--> 434\u001b[0m     fx \u001b[38;5;241m=\u001b[39m \u001b[43mwrapped_fun\u001b[49m\u001b[43m(\u001b[49m\u001b[43mx\u001b[49m\u001b[43m)\u001b[49m\n\u001b[0;32m    435\u001b[0m     c \u001b[38;5;241m=\u001b[39m _eval_constraint(x, cons)\n\u001b[0;32m    437\u001b[0m \u001b[38;5;28;01mif\u001b[39;00m mode \u001b[38;5;241m==\u001b[39m \u001b[38;5;241m-\u001b[39m\u001b[38;5;241m1\u001b[39m:  \u001b[38;5;66;03m# gradient evaluation required\u001b[39;00m\n",
      "File \u001b[1;32mc:\\Users\\vinim\\scoop\\apps\\python\\current\\Lib\\site-packages\\scipy\\optimize\\_optimize.py:302\u001b[0m, in \u001b[0;36m_clip_x_for_func.<locals>.eval\u001b[1;34m(x)\u001b[0m\n\u001b[0;32m    300\u001b[0m \u001b[38;5;28;01mdef\u001b[39;00m \u001b[38;5;21meval\u001b[39m(x):\n\u001b[0;32m    301\u001b[0m     x \u001b[38;5;241m=\u001b[39m _check_clip_x(x, bounds)\n\u001b[1;32m--> 302\u001b[0m     \u001b[38;5;28;01mreturn\u001b[39;00m \u001b[43mfunc\u001b[49m\u001b[43m(\u001b[49m\u001b[43mx\u001b[49m\u001b[43m)\u001b[49m\n",
      "File \u001b[1;32mc:\\Users\\vinim\\scoop\\apps\\python\\current\\Lib\\site-packages\\scipy\\optimize\\_differentiable_functions.py:325\u001b[0m, in \u001b[0;36mScalarFunction.fun\u001b[1;34m(self, x)\u001b[0m\n\u001b[0;32m    323\u001b[0m \u001b[38;5;28;01mif\u001b[39;00m \u001b[38;5;129;01mnot\u001b[39;00m np\u001b[38;5;241m.\u001b[39marray_equal(x, \u001b[38;5;28mself\u001b[39m\u001b[38;5;241m.\u001b[39mx):\n\u001b[0;32m    324\u001b[0m     \u001b[38;5;28mself\u001b[39m\u001b[38;5;241m.\u001b[39m_update_x(x)\n\u001b[1;32m--> 325\u001b[0m \u001b[38;5;28;43mself\u001b[39;49m\u001b[38;5;241;43m.\u001b[39;49m\u001b[43m_update_fun\u001b[49m\u001b[43m(\u001b[49m\u001b[43m)\u001b[49m\n\u001b[0;32m    326\u001b[0m \u001b[38;5;28;01mreturn\u001b[39;00m \u001b[38;5;28mself\u001b[39m\u001b[38;5;241m.\u001b[39mf\n",
      "File \u001b[1;32mc:\\Users\\vinim\\scoop\\apps\\python\\current\\Lib\\site-packages\\scipy\\optimize\\_differentiable_functions.py:294\u001b[0m, in \u001b[0;36mScalarFunction._update_fun\u001b[1;34m(self)\u001b[0m\n\u001b[0;32m    292\u001b[0m \u001b[38;5;28;01mdef\u001b[39;00m \u001b[38;5;21m_update_fun\u001b[39m(\u001b[38;5;28mself\u001b[39m):\n\u001b[0;32m    293\u001b[0m     \u001b[38;5;28;01mif\u001b[39;00m \u001b[38;5;129;01mnot\u001b[39;00m \u001b[38;5;28mself\u001b[39m\u001b[38;5;241m.\u001b[39mf_updated:\n\u001b[1;32m--> 294\u001b[0m         fx \u001b[38;5;241m=\u001b[39m \u001b[38;5;28;43mself\u001b[39;49m\u001b[38;5;241;43m.\u001b[39;49m\u001b[43m_wrapped_fun\u001b[49m\u001b[43m(\u001b[49m\u001b[38;5;28;43mself\u001b[39;49m\u001b[38;5;241;43m.\u001b[39;49m\u001b[43mx\u001b[49m\u001b[43m)\u001b[49m\n\u001b[0;32m    295\u001b[0m         \u001b[38;5;28;01mif\u001b[39;00m fx \u001b[38;5;241m<\u001b[39m \u001b[38;5;28mself\u001b[39m\u001b[38;5;241m.\u001b[39m_lowest_f:\n\u001b[0;32m    296\u001b[0m             \u001b[38;5;28mself\u001b[39m\u001b[38;5;241m.\u001b[39m_lowest_x \u001b[38;5;241m=\u001b[39m \u001b[38;5;28mself\u001b[39m\u001b[38;5;241m.\u001b[39mx\n",
      "File \u001b[1;32mc:\\Users\\vinim\\scoop\\apps\\python\\current\\Lib\\site-packages\\scipy\\optimize\\_differentiable_functions.py:20\u001b[0m, in \u001b[0;36m_wrapper_fun.<locals>.wrapped\u001b[1;34m(x)\u001b[0m\n\u001b[0;32m     16\u001b[0m ncalls[\u001b[38;5;241m0\u001b[39m] \u001b[38;5;241m+\u001b[39m\u001b[38;5;241m=\u001b[39m \u001b[38;5;241m1\u001b[39m\n\u001b[0;32m     17\u001b[0m \u001b[38;5;66;03m# Send a copy because the user may overwrite it.\u001b[39;00m\n\u001b[0;32m     18\u001b[0m \u001b[38;5;66;03m# Overwriting results in undefined behaviour because\u001b[39;00m\n\u001b[0;32m     19\u001b[0m \u001b[38;5;66;03m# fun(self.x) will change self.x, with the two no longer linked.\u001b[39;00m\n\u001b[1;32m---> 20\u001b[0m fx \u001b[38;5;241m=\u001b[39m \u001b[43mfun\u001b[49m\u001b[43m(\u001b[49m\u001b[43mnp\u001b[49m\u001b[38;5;241;43m.\u001b[39;49m\u001b[43mcopy\u001b[49m\u001b[43m(\u001b[49m\u001b[43mx\u001b[49m\u001b[43m)\u001b[49m\u001b[43m,\u001b[49m\u001b[43m \u001b[49m\u001b[38;5;241;43m*\u001b[39;49m\u001b[43margs\u001b[49m\u001b[43m)\u001b[49m\n\u001b[0;32m     21\u001b[0m \u001b[38;5;66;03m# Make sure the function returns a true scalar\u001b[39;00m\n\u001b[0;32m     22\u001b[0m \u001b[38;5;28;01mif\u001b[39;00m \u001b[38;5;129;01mnot\u001b[39;00m np\u001b[38;5;241m.\u001b[39misscalar(fx):\n",
      "Cell \u001b[1;32mIn[5], line 68\u001b[0m, in \u001b[0;36mMPC_optimization_GRU.<locals>.f_obj\u001b[1;34m(u_future, u, y)\u001b[0m\n\u001b[0;32m     66\u001b[0m     data_input \u001b[38;5;241m=\u001b[39m np\u001b[38;5;241m.\u001b[39mcolumn_stack((u_total[l \u001b[38;5;241m-\u001b[39m k : l], y_total[l \u001b[38;5;241m-\u001b[39m k: l]))\n\u001b[0;32m     67\u001b[0m     model_input \u001b[38;5;241m=\u001b[39m pre(data_input\u001b[38;5;241m.\u001b[39mreshape(\u001b[38;5;241m-\u001b[39m\u001b[38;5;241m1\u001b[39m, k, \u001b[38;5;241m3\u001b[39m))\n\u001b[1;32m---> 68\u001b[0m     y_pred[l \u001b[38;5;241m-\u001b[39m k] \u001b[38;5;241m=\u001b[39m \u001b[38;5;28;43mfloat\u001b[39;49m\u001b[43m(\u001b[49m\u001b[43mmodel\u001b[49m\u001b[38;5;241;43m.\u001b[39;49m\u001b[43mpredict\u001b[49m\u001b[43m(\u001b[49m\u001b[43mmodel_input\u001b[49m\u001b[43m,\u001b[49m\u001b[43m \u001b[49m\u001b[43mverbose\u001b[49m\u001b[38;5;241;43m=\u001b[39;49m\u001b[38;5;241;43m0\u001b[39;49m\u001b[43m)\u001b[49m\u001b[43m[\u001b[49m\u001b[38;5;241;43m0\u001b[39;49m\u001b[43m,\u001b[49m\u001b[38;5;241;43m0\u001b[39;49m\u001b[43m]\u001b[49m\u001b[43m)\u001b[49m\n\u001b[0;32m     69\u001b[0m     y_total[l] \u001b[38;5;241m=\u001b[39m y_pred[l \u001b[38;5;241m-\u001b[39m k]\n\u001b[0;32m     71\u001b[0m Q, R \u001b[38;5;241m=\u001b[39m \u001b[38;5;241m100\u001b[39m, \u001b[38;5;241m1\u001b[39m\n",
      "\u001b[1;31mKeyboardInterrupt\u001b[0m: "
     ]
    }
   ],
   "source": [
    "t_sim = np.loadtxt(\"results/PID/PID_servo.csv\", delimiter=\",\")[:, 0]\n",
    "dt = t_sim[1] - t_sim[0]\n",
    "\n",
    "X_gru = np.zeros((t_sim.shape[0], 2))\n",
    "U_gru = np.zeros((t_sim.shape[0], 2))\n",
    "Y_gru = np.zeros(t_sim.shape[0])\n",
    "E_gru = np.zeros(t_sim.shape[0])\n",
    "\n",
    "ysp = np.loadtxt(\"results/ysp.csv\", delimiter=\",\")\n",
    "\n",
    "Y_gru[0] = y_f(X_gru[0], x0=7.0)\n",
    "U_gru[:, :] = [u1ss, u2ss]\n",
    "X_gru[0, :] = [Wa, Wb]\n",
    "\n",
    "CPU_times = []\n",
    "print(\"STARTING SERVO CONTROL\")\n",
    "for n in tqdm(range(0, 10)):\n",
    "    X_gru[n + 1, :] = x_next(X_gru[n], U_gru[n], dt)\n",
    "    Y_gru[n + 1] = y_f(X_gru[n + 1], x0=Y_gru[n]) + np.random.normal(\n",
    "        scale=noise_scale\n",
    "    )\n",
    "\n",
    "IAE = 0.0\n",
    "EC = 0.0\n",
    "pbar = tqdm(range(10, t_sim.shape[0] - 1))\n",
    "for n in pbar:\n",
    "    start = time.process_time()\n",
    "    U = MPC_optimization_GRU(\n",
    "        y0=Y_gru[n - k : n], u0=U_gru[n - k : n], Nc=3, Np=20, ysp=ysp[n], model=gru\n",
    "    )\n",
    "    U_gru[n, 0] = U\n",
    "    X_gru[n + 1, :] = x_next(X_gru[n], U_gru[n], dt)\n",
    "    Y_gru[n + 1] = y_f(X_gru[n + 1], x0=Y_gru[n]) + np.random.normal(\n",
    "        scale=noise_scale\n",
    "    )\n",
    "    CPU_times.append(time.process_time() - start)\n",
    "    IAE += np.abs(ysp[n] - Y_gru[n]) * dt\n",
    "    EC += np.abs(U_gru[n, 0] - U_gru[n-1 ,0])\n",
    "    pbar.set_postfix({\"IAE\":IAE, \"EC\":EC})\n",
    "\n",
    "dataset_gru = np.column_stack((t_sim, U_gru, Y_gru))\n",
    "np.savetxt(\"results/GRU/GRU_servo.csv\", dataset_gru, delimiter=\",\")\n",
    "print(\"DONE\")\n",
    "print()\n",
    "print(\"RESULTS:\")\n",
    "IAE = np.sum(np.abs(ysp - Y_gru) * dt)\n",
    "EC = np.sum(np.abs(np.diff(U_gru[:, 0])))\n",
    "print(f\"IAE={IAE:.2f}\\tEC={EC:.2f}\")"
   ]
  },
  {
   "cell_type": "code",
   "execution_count": 7,
   "id": "76e1355d-8f06-48e1-9064-a95b6dbe4b4c",
   "metadata": {},
   "outputs": [
    {
     "data": {
      "image/png": "[encoded data removed]",
      "text/plain": [
       "<Figure size 640x480 with 1 Axes>"
      ]
     },
     "metadata": {},
     "output_type": "display_data"
    }
   ],
   "source": [
    "plt.step(t_sim, ysp)\n",
    "plt.plot(t_sim, Y_gru);"
   ]
  },
  {
   "cell_type": "code",
   "execution_count": 8,
   "id": "0509ea4c-0788-4311-88a3-3dfbcdc47a37",
   "metadata": {},
   "outputs": [
    {
     "data": {
      "text/plain": [
       "[<matplotlib.lines.Line2D at 0x19db69dccb0>,\n",
       " <matplotlib.lines.Line2D at 0x19db69dcce0>]"
      ]
     },
     "execution_count": 8,
     "metadata": {},
     "output_type": "execute_result"
    },
    {
     "data": {
      "image/png": "[encoded data removed]",
      "text/plain": [
       "<Figure size 640x480 with 1 Axes>"
      ]
     },
     "metadata": {},
     "output_type": "display_data"
    }
   ],
   "source": [
    "plt.plot(U_gru)"
   ]
  },
  {
   "cell_type": "code",
   "execution_count": 25,
   "id": "833df85a-bd49-4d9f-bfa1-37c2b4cb403a",
   "metadata": {},
   "outputs": [
    {
     "name": "stdout",
     "output_type": "stream",
     "text": [
      "STARTING REGULATORY CONTROL\n"
     ]
    },
    {
     "data": {
      "application/vnd.jupyter.widget-view+json": {
       "model_id": "68014d30b3394cd8b5f8ce467db631a9",
       "version_major": 2,
       "version_minor": 0
      },
      "text/plain": [
       "  0%|          | 0/10 [00:00<?, ?it/s]"
      ]
     },
     "metadata": {},
     "output_type": "display_data"
    },
    {
     "data": {
      "application/vnd.jupyter.widget-view+json": {
       "model_id": "798e0566630345319714442a103cddc5",
       "version_major": 2,
       "version_minor": 0
      },
      "text/plain": [
       "  0%|          | 0/390 [00:00<?, ?it/s]"
      ]
     },
     "metadata": {},
     "output_type": "display_data"
    },
    {
     "name": "stdout",
     "output_type": "stream",
     "text": [
      "DONE\n",
      "\n",
      "RESULTS:\n",
      "IAE=17.71\tEC=197.46\n"
     ]
    }
   ],
   "source": [
    "# REGULATORY\n",
    "t_sim = np.loadtxt(\"results/PID/PID_reg.csv\", delimiter=\",\")[:, 0]\n",
    "dt = t_sim[1] - t_sim[0]\n",
    "\n",
    "X_gru = np.zeros((t_sim.shape[0], 2))\n",
    "U_gru = np.zeros((t_sim.shape[0], 2))\n",
    "Y_gru = np.zeros(t_sim.shape[0])\n",
    "E_gru = np.zeros(t_sim.shape[0])\n",
    "\n",
    "ysp = np.ones(t_sim.shape[0]) * 7.0\n",
    "\n",
    "U_gru[:, :] = [u1ss, u2ss]\n",
    "X_gru[0, :] = [Wa, Wb]\n",
    "Y_gru[0] = y_f(X_gru[0], x0=7.0)\n",
    "\n",
    "U_gru[:, 1] = np.loadtxt(\"results/PID/PID_reg.csv\", delimiter=\",\")[:, 2] # loads the disturbances\n",
    "\n",
    "CPU_times = []\n",
    "print(\"STARTING REGULATORY CONTROL\")\n",
    "for n in tqdm(range(0, 10)):\n",
    "    X_gru[n + 1, :] = x_next(X_gru[n], U_gru[n], dt)\n",
    "    Y_gru[n + 1] = y_f(X_gru[n + 1], x0=Y_gru[n]) + np.random.normal(\n",
    "        scale=noise_scale\n",
    "    )\n",
    "\n",
    "IAE = 0.0\n",
    "EC = 0.0\n",
    "pbar = tqdm(range(10, t_sim.shape[0] - 1))\n",
    "for n in pbar:\n",
    "    start = time.process_time()\n",
    "    U = MPC_optimization_GRU(\n",
    "        y0=Y_gru[n - k : n], u0=U_gru[n - k : n], Nc=3, Np=6, ysp=ysp[n], model=gru\n",
    "    )\n",
    "    U_gru[n, 0] = U\n",
    "    X_gru[n + 1, :] = x_next(X_gru[n], U_gru[n], dt)\n",
    "    Y_gru[n + 1] = y_f(X_gru[n + 1], x0=Y_gru[n]) + np.random.normal(\n",
    "        scale=noise_scale\n",
    "    )\n",
    "    CPU_times.append(time.process_time() - start)\n",
    "    IAE += np.square(ysp[n] - Y_gru[n]) * dt\n",
    "    EC += np.abs(U_gru[n, 0] - U_gru[n-1 ,0])\n",
    "    pbar.set_postfix({\"IAE\":IAE, \"EC\":EC})\n",
    "\n",
    "dataset_gru = np.column_stack((t_sim, U_gru, Y_gru))\n",
    "np.savetxt(\"results/GRU/GRU_reg.csv\", dataset_gru, delimiter=\",\")\n",
    "print(\"DONE\")\n",
    "print()\n",
    "print(\"RESULTS:\")\n",
    "IAE = np.sum(np.abs(ysp - Y_gru) * dt)\n",
    "EC = np.sum(np.abs(np.diff(U_gru[:, 0])))\n",
    "print(f\"IAE={IAE:.2f}\\tEC={EC:.2f}\")"
   ]
  }
 ],
 "metadata": {
  "kernelspec": {
   "display_name": "Python 3 (ipykernel)",
   "language": "python",
   "name": "python3"
  },
  "language_info": {
   "codemirror_mode": {
    "name": "ipython",
    "version": 3
   },
   "file_extension": ".py",
   "mimetype": "text/x-python",
   "name": "python",
   "nbconvert_exporter": "python",
   "pygments_lexer": "ipython3",
   "version": "3.12.4"
  }
 },
 "nbformat": 4,
 "nbformat_minor": 5
}
