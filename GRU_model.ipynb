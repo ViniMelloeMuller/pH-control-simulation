{
 "cells": [
  {
   "cell_type": "code",
   "execution_count": 1,
   "id": "49343834-941d-44d2-8bf1-d7559ca1e2c5",
   "metadata": {},
   "outputs": [],
   "source": [
    "from PID import dxdt, y_f, x_next\n",
    "from PID import *\n",
    "import matplotlib.pyplot as plt \n",
    "import optuna\n",
    "import tensorflow\n",
    "from tensorflow import keras\n",
    "from keras.models import Sequential\n",
    "from keras.layers import Dense, GRU, Input\n",
    "import numpy as np \n",
    "import openpyxl\n",
    "from openpyxl import Workbook, load_workbook"
   ]
  },
  {
   "cell_type": "code",
   "execution_count": 4,
   "id": "14d9f20e-a4c9-4a33-8174-c3ee57e74580",
   "metadata": {},
   "outputs": [],
   "source": [
    "class Scaler:\n",
    "    def __init__(self):\n",
    "        self.min_vals: list[float] = None\n",
    "        self.max_vals: list[float] = None\n",
    "\n",
    "    def fit(self, X_train):\n",
    "        \n",
    "        self.min_vals = np.empty(X_train.shape[-1])\n",
    "        self.max_vals = np.empty(X_train.shape[-1])\n",
    "        \n",
    "        for s in range(X_train.shape[-1]):\n",
    "            self.min_vals[s] = np.min(X_train[:,:,s])\n",
    "            self.max_vals[s] = np.max(X_train[:,:,s])\n",
    "            \n",
    "        return\n",
    "\n",
    "    def transform(self, X):\n",
    "        try:\n",
    "            X_copy = np.copy(X)\n",
    "            for s in range(X_copy.shape[-1]):\n",
    "                X_copy[:,:,s] = (X[:,:,s] - self.min_vals[s]) / (self.max_vals[s] - self.min_vals[s])\n",
    "        except:\n",
    "            raise Execption(\"Not Fited!!!\")\n",
    "            \n",
    "        return X_copy\n",
    "\n",
    "    def __str__(self):\n",
    "        return f\"min_vals:{self.min_vals}\\nmax_vals:{self.max_vals}\"\n",
    "\n",
    "    def __call__(self,X):\n",
    "        return self.transform(X) \n",
    "\n",
    "\n",
    "        \n",
    "def data_to_X_Y(data, window_size=2):\n",
    "    \n",
    "    x = []\n",
    "    y = []\n",
    "    \n",
    "    for i in range(len(data) - window_size):\n",
    "        row = [r for r in data[i:i+window_size]]  \n",
    "        x.append(row)\n",
    "        label = data[i+window_size][-1]\n",
    "        y.append(label)\n",
    "    return np.array(x), np.array(y)\n",
    "        \n",
    "def create_model(params: dict):\n",
    "    \"\"\"\n",
    "    Function that automates the creation of a model based\n",
    "    on the params input\n",
    "    \"\"\"\n",
    "    \n",
    "    n = params[\"nhidden\"]\n",
    "    fun1 = params[\"activation1\"]\n",
    "    l1 = params[\"l1\"]\n",
    "    l2 = params[\"l2\"]\n",
    "    dropout_rate = params[\"dropout_rate\"]\n",
    "    \n",
    "    model = Sequential()\n",
    "    model.add(Input((None, 3)))\n",
    "    model.add(GRU(n,activation=fun1, kernel_regularizer=keras.regularizers.L1L2(l1=l1, l2=l2)))\n",
    "    model.add(keras.layers.Dropout(dropout_rate))\n",
    "    model.add(Dense(1))\n",
    "\n",
    "    model.compile(\n",
    "        loss = \"mse\",\n",
    "        optimizer = keras.optimizers.Adam(learning_rate=0.001)\n",
    "    )\n",
    "\n",
    "    return model\n",
    "\n",
    "def get_offline_error(k, model):\n",
    "    dt = 0.5\n",
    "    t_sim = np.arange(0, 100, dt)\n",
    "    \n",
    "    X_off = np.zeros((t_sim.shape[0], 2))\n",
    "    U_off = np.zeros((t_sim.shape[0], 2))\n",
    "    Y_off = np.zeros(t_sim.shape[0])\n",
    "    Y_pred = np.zeros(t_sim.shape[0])\n",
    "    \n",
    "    X_off[0, :] = [Wa, Wb]\n",
    "    Y_off[0] = y_f(X_off[0], x0=7.0)\n",
    "    Y_pred[0] = Y_off[0]\n",
    "    U_off[:, :] = [u1ss, u2ss]\n",
    "    \n",
    "    U_off[20:, 0] *= 1.25\n",
    "    U_off[100:, 1] *= 20\n",
    "    \n",
    "    for n in range(0, t_sim.shape[0] - 1):\n",
    "        X_off[n + 1, :] = x_next(X_off[n], U_off[n], dt)\n",
    "        Y_off[n + 1] = y_f(X_off[n + 1], x0=Y_off[n])\n",
    "    \n",
    "    Y_pred[: k + 1] = Y_off[: k + 1]\n",
    "    \n",
    "    for n in range(k, t_sim.shape[0] - 1):\n",
    "        data_input = np.column_stack((U_off[n - k : n], Y_pred[n - k : n]))\n",
    "        model_input = pre(data_input.reshape(-1, k, 3))\n",
    "        Y_pred[n + 1] = float(model.predict(model_input, verbose=0)[0,0])\n",
    "\n",
    "    score = mse(Y_off, Y_pred)\n",
    "    return score\n",
    "\n",
    "def mse(y1, y2):\n",
    "    return np.mean(np.square(y1 - y2))\n",
    "\n",
    "def tuna_obj(trial):\n",
    "\n",
    "    # Decision variables\n",
    "    n = trial.suggest_int('n_hidden', 1, 50)\n",
    "    fun1 = trial.suggest_categorical(\"activation function\", [\"tanh\", \"linear\"])\n",
    "    window_size = trial.suggest_int(\"window_size\", 1, 4)\n",
    "    tuna_params = {\n",
    "        \"nhidden\": n,\n",
    "        \"activation1\": fun1,\n",
    "        \"window_size\": window_size,\n",
    "        \"l1\": trial.suggest_float(\"l1\", 1e-9, 1e-2, log=True),\n",
    "        \"l2\": trial.suggest_float(\"l2\", 1e-9, 1e-2, log=True),\n",
    "        \"dropout_rate\": trial.suggest_float(\"dr\", 0.0, 0.5, step=.01),\n",
    "    }\n",
    "    \n",
    "    tuna_model = create_model(tuna_params)\n",
    "\n",
    "    x_tuna, y_tuna = data_to_X_Y(dataset_train, window_size = window_size)\n",
    "    pre.fit(x_tuna)\n",
    "    x2, y2 = data_to_X_Y(dataset_test, window_size=window_size)\n",
    "    xN = pre(x_tuna)\n",
    "    # fit model\n",
    "    callback = keras.callbacks.EarlyStopping(monitor=\"val_loss\", patience=10)\n",
    "    tuna_model.fit(xN, y_tuna, validation_split=0.25, batch_size=64, epochs=30, callbacks=[callback],verbose=0)\n",
    "    final_loss = tuna_model.history.history[\"loss\"][-1]\n",
    "    final_val_loss = tuna_model.history.history[\"val_loss\"][-1]\n",
    "    test_loss = mse(tuna_model.predict(pre(x2)), y2)\n",
    "    offline_score = get_offline_error(window_size, tuna_model)\n",
    "    try:\n",
    "        wb = load_workbook(filename)\n",
    "        ws = wb.active\n",
    "        ws.append(list(tuna_params.values()) + [final_loss, final_val_loss, test_loss, offline_score])\n",
    "        wb.save(filename)\n",
    "        wb.close()\n",
    "    except:\n",
    "        wb = Workbook()\n",
    "        ws = wb.active\n",
    "        ws.title = \"GRU\"\n",
    "        ws.append(list(tuna_params.keys()) + [\"train loss\", \"val loss\", \"test loss\", \"offline loss\"])\n",
    "        ws.append(list(tuna_params.values()) + [final_loss, final_val_loss, test_loss, offline_score])\n",
    "        wb.save(filename)\n",
    "        wb.close()\n",
    "        \n",
    "    # Exporting best model\n",
    "    trial.set_user_attr('tuna_params', tuna_params)\n",
    "    trial.set_user_attr('model', tuna_model)\n",
    "    \n",
    "    return offline_score"
   ]
  },
  {
   "cell_type": "code",
   "execution_count": 9,
   "id": "75e7a6a2-cffc-448c-9ae6-ed1f062b2171",
   "metadata": {},
   "outputs": [
    {
     "name": "stdout",
     "output_type": "stream",
     "text": [
      "LOADING DATA\n",
      "min_vals:[7.77500000e+00 5.54058448e-03 5.71566559e+00]\n",
      "max_vals:[23.325       4.98602873  9.48785654]\n",
      "DATA LOADED\n"
     ]
    }
   ],
   "source": [
    "# Data Loading\n",
    "print(\"LOADING DATA\")\n",
    "dataset_train = np.loadtxt(\"data/PID_data.csv\", delimiter=\",\")\n",
    "dataset_test = np.loadtxt(\"data/PID_data_test.csv\", delimiter=\",\")\n",
    "\n",
    "t = dataset_train[:,0]\n",
    "t2 = dataset_test[:,0]\n",
    "\n",
    "dt = t[1] - t[0]\n",
    "\n",
    "dataset_train = dataset_train[:, 1:]\n",
    "dataset_test = dataset_test[:, 1:]\n",
    "\n",
    "x_train, _ = data_to_X_Y(dataset_train)\n",
    "\n",
    "pre = Scaler()\n",
    "pre.fit(x_train)\n",
    "\n",
    "print(pre)\n",
    "\n",
    "filename = \"results/GRU/modeling.xlsx\"\n",
    "\n",
    "print(\"DATA LOADED\")"
   ]
  },
  {
   "cell_type": "code",
   "execution_count": 10,
   "id": "443f4ae1-2f8f-4918-bf6c-948da0926353",
   "metadata": {},
   "outputs": [],
   "source": [
    "minimal_params = {\n",
    "    \"n_hdden\":1,\n",
    "    \"activation function\": \"tanh\",\n",
    "    \"l1\":1e-9,\n",
    "    \"l2\":1e-9,\n",
    "    \"dr\":0.0,\n",
    "    \"window_size\":1\n",
    "}"
   ]
  },
  {
   "cell_type": "code",
   "execution_count": 11,
   "id": "529e95ef-ab03-49b0-b3c7-8209bad0ef6f",
   "metadata": {
    "scrolled": true
   },
   "outputs": [
    {
     "name": "stdout",
     "output_type": "stream",
     "text": [
      "\u001b[1m938/938\u001b[0m \u001b[32m━━━━━━━━━━━━━━━━━━━━\u001b[0m\u001b[37m\u001b[0m \u001b[1m1s\u001b[0m 925us/step\n"
     ]
    },
    {
     "name": "stderr",
     "output_type": "stream",
     "text": [
      "[I 2024-07-24 10:03:31,794] Trial 61 finished with value: 0.1764407212671773 and parameters: {'n_hidden': 43, 'activation function': 'tanh', 'window_size': 3, 'l1': 0.0002678303606517285, 'l2': 3.920514524221786e-05, 'dr': 0.34}. Best is trial 12 with value: 0.061817585995646435.\n"
     ]
    },
    {
     "name": "stdout",
     "output_type": "stream",
     "text": [
      "\u001b[1m938/938\u001b[0m \u001b[32m━━━━━━━━━━━━━━━━━━━━\u001b[0m\u001b[37m\u001b[0m \u001b[1m1s\u001b[0m 902us/step\n"
     ]
    },
    {
     "name": "stderr",
     "output_type": "stream",
     "text": [
      "[I 2024-07-24 10:04:48,105] Trial 62 finished with value: 0.38991899707187777 and parameters: {'n_hidden': 46, 'activation function': 'tanh', 'window_size': 3, 'l1': 0.0005370887147361211, 'l2': 0.00012743150401075705, 'dr': 0.36}. Best is trial 12 with value: 0.061817585995646435.\n"
     ]
    },
    {
     "name": "stdout",
     "output_type": "stream",
     "text": [
      "\u001b[1m938/938\u001b[0m \u001b[32m━━━━━━━━━━━━━━━━━━━━\u001b[0m\u001b[37m\u001b[0m \u001b[1m1s\u001b[0m 887us/step\n"
     ]
    },
    {
     "name": "stderr",
     "output_type": "stream",
     "text": [
      "[I 2024-07-24 10:06:02,362] Trial 63 finished with value: 1.723667328477474 and parameters: {'n_hidden': 32, 'activation function': 'tanh', 'window_size': 3, 'l1': 8.35745755482917e-06, 'l2': 1.1058706700773113e-05, 'dr': 0.32}. Best is trial 12 with value: 0.061817585995646435.\n"
     ]
    },
    {
     "name": "stdout",
     "output_type": "stream",
     "text": [
      "\u001b[1m938/938\u001b[0m \u001b[32m━━━━━━━━━━━━━━━━━━━━\u001b[0m\u001b[37m\u001b[0m \u001b[1m1s\u001b[0m 917us/step\n"
     ]
    },
    {
     "name": "stderr",
     "output_type": "stream",
     "text": [
      "[I 2024-07-24 10:07:24,280] Trial 64 finished with value: 0.1904594124671037 and parameters: {'n_hidden': 41, 'activation function': 'tanh', 'window_size': 3, 'l1': 0.00011798772009964556, 'l2': 0.0003039851530296634, 'dr': 0.33}. Best is trial 12 with value: 0.061817585995646435.\n"
     ]
    },
    {
     "name": "stdout",
     "output_type": "stream",
     "text": [
      "\u001b[1m938/938\u001b[0m \u001b[32m━━━━━━━━━━━━━━━━━━━━\u001b[0m\u001b[37m\u001b[0m \u001b[1m1s\u001b[0m 900us/step\n"
     ]
    },
    {
     "name": "stderr",
     "output_type": "stream",
     "text": [
      "[I 2024-07-24 10:08:37,059] Trial 65 finished with value: 1.0105715018914874 and parameters: {'n_hidden': 36, 'activation function': 'tanh', 'window_size': 3, 'l1': 0.0002967907951204257, 'l2': 2.5896804419537032e-06, 'dr': 0.29}. Best is trial 12 with value: 0.061817585995646435.\n"
     ]
    },
    {
     "name": "stdout",
     "output_type": "stream",
     "text": [
      "\u001b[1m938/938\u001b[0m \u001b[32m━━━━━━━━━━━━━━━━━━━━\u001b[0m\u001b[37m\u001b[0m \u001b[1m1s\u001b[0m 808us/step\n"
     ]
    },
    {
     "name": "stderr",
     "output_type": "stream",
     "text": [
      "[I 2024-07-24 10:09:33,799] Trial 66 finished with value: 0.22986992264067968 and parameters: {'n_hidden': 25, 'activation function': 'linear', 'window_size': 1, 'l1': 0.0035026326640951112, 'l2': 6.14560049968647e-05, 'dr': 0.0}. Best is trial 12 with value: 0.061817585995646435.\n"
     ]
    },
    {
     "name": "stdout",
     "output_type": "stream",
     "text": [
      "\u001b[1m938/938\u001b[0m \u001b[32m━━━━━━━━━━━━━━━━━━━━\u001b[0m\u001b[37m\u001b[0m \u001b[1m1s\u001b[0m 893us/step\n"
     ]
    },
    {
     "name": "stderr",
     "output_type": "stream",
     "text": [
      "[I 2024-07-24 10:10:48,998] Trial 67 finished with value: 0.1261849899779704 and parameters: {'n_hidden': 29, 'activation function': 'tanh', 'window_size': 3, 'l1': 0.0016355575250703643, 'l2': 6.840885013108313e-08, 'dr': 0.41000000000000003}. Best is trial 12 with value: 0.061817585995646435.\n"
     ]
    },
    {
     "name": "stdout",
     "output_type": "stream",
     "text": [
      "\u001b[1m938/938\u001b[0m \u001b[32m━━━━━━━━━━━━━━━━━━━━\u001b[0m\u001b[37m\u001b[0m \u001b[1m1s\u001b[0m 827us/step\n"
     ]
    },
    {
     "name": "stderr",
     "output_type": "stream",
     "text": [
      "[I 2024-07-24 10:11:53,978] Trial 68 finished with value: 0.21210408155384392 and parameters: {'n_hidden': 29, 'activation function': 'tanh', 'window_size': 2, 'l1': 0.0017445172001620403, 'l2': 8.181496762785045e-08, 'dr': 0.43}. Best is trial 12 with value: 0.061817585995646435.\n"
     ]
    },
    {
     "name": "stdout",
     "output_type": "stream",
     "text": [
      "\u001b[1m938/938\u001b[0m \u001b[32m━━━━━━━━━━━━━━━━━━━━\u001b[0m\u001b[37m\u001b[0m \u001b[1m1s\u001b[0m 885us/step\n"
     ]
    },
    {
     "name": "stderr",
     "output_type": "stream",
     "text": [
      "[I 2024-07-24 10:13:11,707] Trial 69 finished with value: 0.5196974787075115 and parameters: {'n_hidden': 23, 'activation function': 'linear', 'window_size': 4, 'l1': 0.006094187716724814, 'l2': 1.6190152170439308e-08, 'dr': 0.4}. Best is trial 12 with value: 0.061817585995646435.\n"
     ]
    },
    {
     "name": "stdout",
     "output_type": "stream",
     "text": [
      "\u001b[1m938/938\u001b[0m \u001b[32m━━━━━━━━━━━━━━━━━━━━\u001b[0m\u001b[37m\u001b[0m \u001b[1m1s\u001b[0m 758us/step\n"
     ]
    },
    {
     "name": "stderr",
     "output_type": "stream",
     "text": [
      "[I 2024-07-24 10:14:09,187] Trial 70 finished with value: 0.8443504524781191 and parameters: {'n_hidden': 21, 'activation function': 'tanh', 'window_size': 1, 'l1': 0.0007124344487002155, 'l2': 4.013193049487693e-09, 'dr': 0.47000000000000003}. Best is trial 12 with value: 0.061817585995646435.\n"
     ]
    },
    {
     "name": "stdout",
     "output_type": "stream",
     "text": [
      "\u001b[1m938/938\u001b[0m \u001b[32m━━━━━━━━━━━━━━━━━━━━\u001b[0m\u001b[37m\u001b[0m \u001b[1m1s\u001b[0m 863us/step\n"
     ]
    },
    {
     "name": "stderr",
     "output_type": "stream",
     "text": [
      "[I 2024-07-24 10:15:18,453] Trial 71 finished with value: 0.8551433950972438 and parameters: {'n_hidden': 27, 'activation function': 'tanh', 'window_size': 3, 'l1': 0.002039872767409384, 'l2': 3.307185438553542e-08, 'dr': 0.36}. Best is trial 12 with value: 0.061817585995646435.\n"
     ]
    },
    {
     "name": "stdout",
     "output_type": "stream",
     "text": [
      "\u001b[1m938/938\u001b[0m \u001b[32m━━━━━━━━━━━━━━━━━━━━\u001b[0m\u001b[37m\u001b[0m \u001b[1m1s\u001b[0m 846us/step\n"
     ]
    },
    {
     "name": "stderr",
     "output_type": "stream",
     "text": [
      "[I 2024-07-24 10:16:30,404] Trial 72 finished with value: 0.431585088507189 and parameters: {'n_hidden': 34, 'activation function': 'tanh', 'window_size': 3, 'l1': 0.0011696511942635944, 'l2': 8.05973324392025e-06, 'dr': 0.04}. Best is trial 12 with value: 0.061817585995646435.\n"
     ]
    },
    {
     "name": "stdout",
     "output_type": "stream",
     "text": [
      "\u001b[1m938/938\u001b[0m \u001b[32m━━━━━━━━━━━━━━━━━━━━\u001b[0m\u001b[37m\u001b[0m \u001b[1m1s\u001b[0m 838us/step\n"
     ]
    },
    {
     "name": "stderr",
     "output_type": "stream",
     "text": [
      "[I 2024-07-24 10:17:38,413] Trial 73 finished with value: 1.575650380764941 and parameters: {'n_hidden': 30, 'activation function': 'tanh', 'window_size': 3, 'l1': 6.866694370495965e-05, 'l2': 1.5412076006896494e-05, 'dr': 0.35000000000000003}. Best is trial 12 with value: 0.061817585995646435.\n"
     ]
    },
    {
     "name": "stdout",
     "output_type": "stream",
     "text": [
      "\u001b[1m938/938\u001b[0m \u001b[32m━━━━━━━━━━━━━━━━━━━━\u001b[0m\u001b[37m\u001b[0m \u001b[1m1s\u001b[0m 898us/step\n"
     ]
    },
    {
     "name": "stderr",
     "output_type": "stream",
     "text": [
      "[I 2024-07-24 10:18:50,400] Trial 74 finished with value: 0.3205963444471317 and parameters: {'n_hidden': 46, 'activation function': 'tanh', 'window_size': 3, 'l1': 0.0038944598765756687, 'l2': 4.5634543425154306e-05, 'dr': 0.42}. Best is trial 12 with value: 0.061817585995646435.\n"
     ]
    },
    {
     "name": "stdout",
     "output_type": "stream",
     "text": [
      "\u001b[1m938/938\u001b[0m \u001b[32m━━━━━━━━━━━━━━━━━━━━\u001b[0m\u001b[37m\u001b[0m \u001b[1m1s\u001b[0m 889us/step\n"
     ]
    },
    {
     "name": "stderr",
     "output_type": "stream",
     "text": [
      "[I 2024-07-24 10:20:04,148] Trial 75 finished with value: 0.5643094385861699 and parameters: {'n_hidden': 48, 'activation function': 'tanh', 'window_size': 3, 'l1': 3.0768216525547425e-05, 'l2': 4.911548856893051e-07, 'dr': 0.19}. Best is trial 12 with value: 0.061817585995646435.\n"
     ]
    },
    {
     "name": "stdout",
     "output_type": "stream",
     "text": [
      "\u001b[1m938/938\u001b[0m \u001b[32m━━━━━━━━━━━━━━━━━━━━\u001b[0m\u001b[37m\u001b[0m \u001b[1m1s\u001b[0m 852us/step\n"
     ]
    },
    {
     "name": "stderr",
     "output_type": "stream",
     "text": [
      "[I 2024-07-24 10:21:21,954] Trial 76 finished with value: 0.6434479231309043 and parameters: {'n_hidden': 24, 'activation function': 'tanh', 'window_size': 2, 'l1': 0.0002922277216596668, 'l2': 2.1622670405246287e-07, 'dr': 0.12}. Best is trial 12 with value: 0.061817585995646435.\n"
     ]
    }
   ],
   "source": [
    "import pickle \n",
    "try:\n",
    "    with open(\"tuna_study.obj\", \"rb\") as file:\n",
    "        study = pickle.load(file)\n",
    "except:\n",
    "    study = optuna.create_study()\n",
    "    study.enqueue_trial(minimal_params)\n",
    "    \n",
    "study.optimize(tuna_obj, timeout=60*19) #timeout = seconds to run\n",
    "\n",
    "with open(\"tuna_study.obj\", \"wb\") as file:\n",
    "    pickle.dump(study, file)"
   ]
  },
  {
   "cell_type": "code",
   "execution_count": 17,
   "id": "e7dd2495-c23e-4d49-80cf-5e50b0406fd2",
   "metadata": {},
   "outputs": [],
   "source": [
    "# Obtaining the best model and saving it\n",
    "best_trial = study.best_trial\n",
    "best_model = best_trial.user_attrs['model']\n",
    "best_model.save('models/best_model.keras')\n",
    "\n",
    "# Saving its best parameters\n",
    "best_params = best_trial.user_attrs['tuna_params']\n",
    "with open('models/best_model_params.txt', 'w') as f:\n",
    "    for key, value in best_params.items():\n",
    "        f.write(f'{key}: {value}\\n')"
   ]
  },
  {
   "cell_type": "code",
   "execution_count": 13,
   "id": "d4b8ca20-eca2-4732-a534-ef3a85b3be9f",
   "metadata": {},
   "outputs": [],
   "source": [
    "dt = 0.5\n",
    "k = best_params[\"window_size\"]\n",
    "t_sim = np.arange(0, 100, dt)\n",
    "\n",
    "X_off = np.zeros((t_sim.shape[0], 2))\n",
    "U_off = np.zeros((t_sim.shape[0], 2))\n",
    "Y_off = np.zeros(t_sim.shape[0])\n",
    "Y_pred = np.zeros(t_sim.shape[0])\n",
    "\n",
    "X_off[0, :] = [Wa, Wb]\n",
    "Y_off[0] = y_f(X_off[0], x0=7.0)\n",
    "Y_pred[0] = Y_off[0]\n",
    "U_off[:, :] = [u1ss, u2ss]\n",
    "\n",
    "U_off[20:, 0] *= 1.25\n",
    "U_off[100:, 1] *= 20\n",
    "\n",
    "for n in range(0, t_sim.shape[0] - 1):\n",
    "    X_off[n + 1, :] = x_next(X_off[n], U_off[n], dt)\n",
    "    Y_off[n + 1] = y_f(X_off[n + 1], x0=Y_off[n])\n",
    "\n",
    "Y_pred[: k + 1] = Y_off[: k + 1]\n",
    "\n",
    "for n in range(k, t_sim.shape[0] - 1):\n",
    "    data_input = np.column_stack((U_off[n - k : n], Y_pred[n - k : n]))\n",
    "    model_input = pre(data_input.reshape(-1, k, 3))\n",
    "    Y_pred[n + 1] = float(best_model.predict(model_input, verbose=0)[0,0])"
   ]
  },
  {
   "cell_type": "code",
   "execution_count": 14,
   "id": "3d4021b5-7798-4004-8e93-1ffbeca60ed3",
   "metadata": {},
   "outputs": [
    {
     "name": "stdout",
     "output_type": "stream",
     "text": [
      "0.061817585995646435\n"
     ]
    },
    {
     "data": {
      "text/plain": [
       "[<matplotlib.lines.Line2D at 0x1e9032115b0>]"
      ]
     },
     "execution_count": 14,
     "metadata": {},
     "output_type": "execute_result"
    },
    {
     "data": {
      "image/png": "[encoded data removed]",
      "text/plain": [
       "<Figure size 640x480 with 1 Axes>"
      ]
     },
     "metadata": {},
     "output_type": "display_data"
    }
   ],
   "source": [
    "print(mse(Y_off, Y_pred))\n",
    "plt.plot(Y_off)\n",
    "plt.plot(Y_pred)"
   ]
  },
  {
   "cell_type": "code",
   "execution_count": 18,
   "id": "6583a6cd-8be5-4c68-8a04-e0b807367097",
   "metadata": {},
   "outputs": [
    {
     "name": "stdout",
     "output_type": "stream",
     "text": [
      "min_vals:[7.77500000e+00 5.54058448e-03 5.71566559e+00]\n",
      "max_vals:[23.325       4.98602873  9.48785654]\n"
     ]
    }
   ],
   "source": [
    "print(pre)"
   ]
  },
  {
   "cell_type": "code",
   "execution_count": 19,
   "id": "e7dc5424-b44f-4275-938b-884eebb4d087",
   "metadata": {},
   "outputs": [],
   "source": [
    "with open(\"models/preprocessor.obj\", \"wb\") as f:\n",
    "    pickle.dump(pre, f)"
   ]
  },
  {
   "cell_type": "code",
   "execution_count": null,
   "id": "8fedd478-f13b-49ae-9009-2edbc3df2416",
   "metadata": {},
   "outputs": [],
   "source": []
  }
 ],
 "metadata": {
  "kernelspec": {
   "display_name": "Python 3 (ipykernel)",
   "language": "python",
   "name": "python3"
  },
  "language_info": {
   "codemirror_mode": {
    "name": "ipython",
    "version": 3
   },
   "file_extension": ".py",
   "mimetype": "text/x-python",
   "name": "python",
   "nbconvert_exporter": "python",
   "pygments_lexer": "ipython3",
   "version": "3.12.4"
  }
 },
 "nbformat": 4,
 "nbformat_minor": 5
}
