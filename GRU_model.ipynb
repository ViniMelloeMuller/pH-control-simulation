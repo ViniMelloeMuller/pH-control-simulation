{
 "cells": [
  {
   "cell_type": "code",
   "execution_count": 2,
   "id": "49343834-941d-44d2-8bf1-d7559ca1e2c5",
   "metadata": {},
   "outputs": [],
   "source": [
    "from PID import *\n",
    "import matplotlib.pyplot as plt \n",
    "import optuna\n",
    "import tensorflow\n",
    "from tensorflow import keras\n",
    "from keras.models import Sequential\n",
    "from keras.layers import Dense, GRU, Input\n",
    "import numpy as np \n",
    "import openpyxl\n",
    "from tqdm.notebook import tqdm\n",
    "from openpyxl import Workbook, load_workbook"
   ]
  },
  {
   "cell_type": "code",
   "execution_count": 3,
   "id": "14d9f20e-a4c9-4a33-8174-c3ee57e74580",
   "metadata": {},
   "outputs": [],
   "source": [
    "class Scaler:\n",
    "    def __init__(self):\n",
    "        self.min_vals: list[float] = None\n",
    "        self.max_vals: list[float] = None\n",
    "\n",
    "    def fit(self, X_train):\n",
    "        \n",
    "        self.min_vals = np.empty(X_train.shape[-1])\n",
    "        self.max_vals = np.empty(X_train.shape[-1])\n",
    "        \n",
    "        for s in range(X_train.shape[-1]):\n",
    "            self.min_vals[s] = np.min(X_train[:,:,s])\n",
    "            self.max_vals[s] = np.max(X_train[:,:,s])\n",
    "            \n",
    "        return\n",
    "\n",
    "    def transform(self, X):\n",
    "        try:\n",
    "            X_copy = np.copy(X)\n",
    "            for s in range(X_copy.shape[-1]):\n",
    "                X_copy[:,:,s] = (X[:,:,s] - self.min_vals[s]) / (self.max_vals[s] - self.min_vals[s])\n",
    "        except:\n",
    "            raise Execption(\"Not Fited!!!\")  # noqa: F405\n",
    "            \n",
    "        return X_copy\n",
    "\n",
    "    def __str__(self):\n",
    "        return f\"min_vals:{self.min_vals}\\nmax_vals:{self.max_vals}\"\n",
    "\n",
    "    def __call__(self,X):\n",
    "        return self.transform(X) \n",
    "\n",
    "\n",
    "        \n",
    "def data_to_X_Y(data, window_size=2):\n",
    "    \n",
    "    x = []\n",
    "    y = []\n",
    "    \n",
    "    for i in range(len(data) - window_size):\n",
    "        row = [r for r in data[i:i+window_size]]  \n",
    "        x.append(row)\n",
    "        label = data[i+window_size][-1]\n",
    "        y.append(label)\n",
    "    return np.array(x), np.array(y)\n",
    "        \n",
    "def create_model(params: dict):\n",
    "    \"\"\"\n",
    "    Function that automates the creation of a model based\n",
    "    on the params input\n",
    "    \"\"\"\n",
    "    \n",
    "    n = params[\"nhidden\"]\n",
    "    fun1 = params[\"activation1\"]\n",
    "    l1 = params[\"l1\"]\n",
    "    l2 = params[\"l2\"]\n",
    "    dropout_rate = params[\"dropout_rate\"]\n",
    "    \n",
    "    model = Sequential()\n",
    "    model.add(Input((None, 3)))\n",
    "    model.add(GRU(n,activation=fun1, kernel_regularizer=keras.regularizers.L1L2(l1=l1, l2=l2)))\n",
    "    model.add(keras.layers.Dropout(dropout_rate))\n",
    "    model.add(Dense(1))\n",
    "\n",
    "    model.compile(\n",
    "        loss = \"mse\",\n",
    "        optimizer = keras.optimizers.Adam(learning_rate=0.0005)\n",
    "    )\n",
    "\n",
    "    return model\n",
    "\n",
    "def get_offline_error(k, model):\n",
    "    test = dataset_test[200:500]\n",
    "    t_sim = t2[200:500]\n",
    "    \n",
    "    Y_off = test[:, -1]\n",
    "    Y_pred = np.empty(t_sim.shape[0])\n",
    "    \n",
    "    Y_pred[0] = Y_off[0]\n",
    "    U_off = test[:, :-1]\n",
    "    \n",
    "    \n",
    "    Y_pred[: k + 1] = Y_off[: k + 1]\n",
    "    \n",
    "    for n in tqdm(range(k, t_sim.shape[0] - 1)):\n",
    "        data_input = np.column_stack((U_off[n - k : n], Y_pred[n - k : n]))\n",
    "        model_input = pre(data_input.reshape(-1, k, 3))\n",
    "        Y_pred[n + 1] = float(model.predict(model_input, verbose=0)[0,0])\n",
    "\n",
    "    score = mse(Y_off, Y_pred)\n",
    "    return score\n",
    "\n",
    "\n",
    "def mse(y1, y2):\n",
    "    return np.mean(np.square(y1 - y2))\n",
    "\n",
    "def tuna_obj(trial):\n",
    "\n",
    "    # Decision variables\n",
    "    n = trial.suggest_int('n_hidden', 1, 50)\n",
    "    fun1 = trial.suggest_categorical(\"activation function\", [\"tanh\", \"linear\"])\n",
    "    window_size = trial.suggest_int(\"window_size\", 1, 8)\n",
    "    tuna_params = {\n",
    "        \"nhidden\": n,\n",
    "        \"activation1\": fun1,\n",
    "        \"window_size\": window_size,\n",
    "        \"l1\": trial.suggest_float(\"l1\", 1e-9, 1e-2, log=True),\n",
    "        \"l2\": trial.suggest_float(\"l2\", 1e-9, 1e-2, log=True),\n",
    "        \"dropout_rate\": trial.suggest_float(\"dr\", 0.0, 0.5, step=.01),\n",
    "    }\n",
    "    \n",
    "    tuna_model = create_model(tuna_params)\n",
    "\n",
    "    x_tuna, y_tuna = data_to_X_Y(dataset_train, window_size = window_size)\n",
    "    pre.fit(x_tuna)\n",
    "    pid_x, pid_y = data_to_X_Y(pid11[:,1:], window_size)\n",
    "    pid_x2, pid_y2 = data_to_X_Y(pid12[:,1:], window_size)\n",
    "    pid_xfull = np.vstack([pid_x, pid_x2])\n",
    "    pid_yfull = np.concatenate([pid_y, pid_y2])\n",
    "    xN = pre(x_tuna)\n",
    "    # fit model\n",
    "    callback = keras.callbacks.EarlyStopping(monitor=\"val_loss\", patience=10)\n",
    "    tuna_model.fit(xN, y_tuna, validation_split=0.30, batch_size=128, epochs=100, callbacks=[callback],verbose=0)\n",
    "    final_loss = tuna_model.history.history[\"loss\"][-1]\n",
    "    final_val_loss = tuna_model.history.history[\"val_loss\"][-1]\n",
    "    test_loss = mse(tuna_model.predict(pre(pid_xfull)), pid_yfull)\n",
    "    offline_score = get_offline_error(window_size, tuna_model)\n",
    "\n",
    "    wb = load_workbook(filename)\n",
    "    ws = wb.active\n",
    "    ws.append(list(tuna_params.values()) + [final_loss, final_val_loss, test_loss, offline_score])\n",
    "    wb.save(filename)\n",
    "    wb.close()\n",
    "        \n",
    "    # Exporting best model\n",
    "    trial.set_user_attr('tuna_params', tuna_params)\n",
    "    trial.set_user_attr('model', tuna_model)\n",
    "    \n",
    "    return offline_score"
   ]
  },
  {
   "cell_type": "code",
   "execution_count": 4,
   "id": "75e7a6a2-cffc-448c-9ae6-ed1f062b2171",
   "metadata": {},
   "outputs": [
    {
     "name": "stdout",
     "output_type": "stream",
     "text": [
      "LOADING DATA\n",
      "min_vals:[7.775      0.00948761 6.09657936]\n",
      "max_vals:[23.325       4.98955436  9.5441056 ]\n",
      "DATA LOADED\n"
     ]
    }
   ],
   "source": [
    "# Data Loading\n",
    "print(\"LOADING DATA\")\n",
    "dataset_train = np.loadtxt(\"data/PID_data.csv\", delimiter=\",\")\n",
    "dataset_test = np.loadtxt(\"data/PID_data_test.csv\", delimiter=\",\")\n",
    "\n",
    "pid11 = np.loadtxt(\"results/PID/PID_reg.csv\", delimiter=\",\")\n",
    "pid12 = np.loadtxt(\"results/PID/PID_servo.csv\", delimiter=\",\")\n",
    "\n",
    "t = dataset_train[:,0]\n",
    "t2 = dataset_test[:,0]\n",
    "\n",
    "dt = t[1] - t[0]\n",
    "\n",
    "dataset_train = dataset_train[:, 1:]\n",
    "dataset_test = dataset_test[:, 1:]\n",
    "\n",
    "x_train, _ = data_to_X_Y(dataset_train)\n",
    "\n",
    "pre = Scaler()\n",
    "pre.fit(x_train)\n",
    "\n",
    "print(pre)\n",
    "\n",
    "filename = \"results/GRU/modeling.xlsx\"\n",
    "\n",
    "print(\"DATA LOADED\")"
   ]
  },
  {
   "cell_type": "code",
   "execution_count": 5,
   "id": "443f4ae1-2f8f-4918-bf6c-948da0926353",
   "metadata": {},
   "outputs": [],
   "source": [
    "minimal_params = {\n",
    "    \"n_hdden\":1,\n",
    "    \"activation function\": \"tanh\",\n",
    "    \"l1\":1e-9,\n",
    "    \"l2\":1e-9,\n",
    "    \"dr\":0.1,\n",
    "    \"window_size\":1\n",
    "}"
   ]
  },
  {
   "cell_type": "code",
   "execution_count": 6,
   "id": "529e95ef-ab03-49b0-b3c7-8209bad0ef6f",
   "metadata": {
    "scrolled": true
   },
   "outputs": [
    {
     "name": "stdout",
     "output_type": "stream",
     "text": [
      "STUDY LOADED\n",
      "\u001b[1m25/25\u001b[0m \u001b[32m━━━━━━━━━━━━━━━━━━━━\u001b[0m\u001b[37m\u001b[0m \u001b[1m0s\u001b[0m 7ms/step\n"
     ]
    },
    {
     "data": {
      "application/vnd.jupyter.widget-view+json": {
       "model_id": "8760b99fb862496e8c3cc0409bd98fb4",
       "version_major": 2,
       "version_minor": 0
      },
      "text/plain": [
       "  0%|          | 0/294 [00:00<?, ?it/s]"
      ]
     },
     "metadata": {},
     "output_type": "display_data"
    },
    {
     "name": "stderr",
     "output_type": "stream",
     "text": [
      "[I 2024-08-14 22:16:56,445] Trial 102 finished with value: 0.20634624996260142 and parameters: {'n_hidden': 27, 'activation function': 'linear', 'window_size': 5, 'l1': 1.1728590616098962e-06, 'l2': 5.2869644186981515e-06, 'dr': 0.22}. Best is trial 96 with value: 0.05557053542185644.\n"
     ]
    },
    {
     "name": "stdout",
     "output_type": "stream",
     "text": [
      "\u001b[1m25/25\u001b[0m \u001b[32m━━━━━━━━━━━━━━━━━━━━\u001b[0m\u001b[37m\u001b[0m \u001b[1m0s\u001b[0m 8ms/step\n"
     ]
    },
    {
     "data": {
      "application/vnd.jupyter.widget-view+json": {
       "model_id": "9b15634d72294167a6a50fd1099d2883",
       "version_major": 2,
       "version_minor": 0
      },
      "text/plain": [
       "  0%|          | 0/294 [00:00<?, ?it/s]"
      ]
     },
     "metadata": {},
     "output_type": "display_data"
    },
    {
     "name": "stderr",
     "output_type": "stream",
     "text": [
      "[I 2024-08-14 22:20:11,557] Trial 103 finished with value: 0.12300080356976238 and parameters: {'n_hidden': 29, 'activation function': 'linear', 'window_size': 5, 'l1': 9.249519840115023e-06, 'l2': 1.9783940830460658e-05, 'dr': 0.04}. Best is trial 96 with value: 0.05557053542185644.\n"
     ]
    },
    {
     "name": "stdout",
     "output_type": "stream",
     "text": [
      "\u001b[1m25/25\u001b[0m \u001b[32m━━━━━━━━━━━━━━━━━━━━\u001b[0m\u001b[37m\u001b[0m \u001b[1m0s\u001b[0m 7ms/step\n"
     ]
    },
    {
     "data": {
      "application/vnd.jupyter.widget-view+json": {
       "model_id": "667a4cdaf88a453b9c3eb219be258752",
       "version_major": 2,
       "version_minor": 0
      },
      "text/plain": [
       "  0%|          | 0/294 [00:00<?, ?it/s]"
      ]
     },
     "metadata": {},
     "output_type": "display_data"
    },
    {
     "name": "stderr",
     "output_type": "stream",
     "text": [
      "[I 2024-08-14 22:21:06,115] Trial 104 finished with value: 0.2663320589709083 and parameters: {'n_hidden': 7, 'activation function': 'linear', 'window_size': 5, 'l1': 2.5640036565135807e-06, 'l2': 2.6607899821615e-07, 'dr': 0.06}. Best is trial 96 with value: 0.05557053542185644.\n"
     ]
    },
    {
     "name": "stdout",
     "output_type": "stream",
     "text": [
      "\u001b[1m25/25\u001b[0m \u001b[32m━━━━━━━━━━━━━━━━━━━━\u001b[0m\u001b[37m\u001b[0m \u001b[1m0s\u001b[0m 7ms/step\n"
     ]
    },
    {
     "data": {
      "application/vnd.jupyter.widget-view+json": {
       "model_id": "2f214a02be9845b4bfc04e0bf6002300",
       "version_major": 2,
       "version_minor": 0
      },
      "text/plain": [
       "  0%|          | 0/291 [00:00<?, ?it/s]"
      ]
     },
     "metadata": {},
     "output_type": "display_data"
    },
    {
     "name": "stderr",
     "output_type": "stream",
     "text": [
      "[I 2024-08-14 22:22:42,043] Trial 105 finished with value: 0.28863569316436394 and parameters: {'n_hidden': 3, 'activation function': 'linear', 'window_size': 8, 'l1': 7.237391557408364e-07, 'l2': 3.9343065809587603e-07, 'dr': 0.24}. Best is trial 96 with value: 0.05557053542185644.\n"
     ]
    },
    {
     "name": "stdout",
     "output_type": "stream",
     "text": [
      "\u001b[1m25/25\u001b[0m \u001b[32m━━━━━━━━━━━━━━━━━━━━\u001b[0m\u001b[37m\u001b[0m \u001b[1m0s\u001b[0m 7ms/step\n"
     ]
    },
    {
     "data": {
      "application/vnd.jupyter.widget-view+json": {
       "model_id": "e5a8cff4cca240cd902fc6f043f49824",
       "version_major": 2,
       "version_minor": 0
      },
      "text/plain": [
       "  0%|          | 0/294 [00:00<?, ?it/s]"
      ]
     },
     "metadata": {},
     "output_type": "display_data"
    },
    {
     "name": "stderr",
     "output_type": "stream",
     "text": [
      "[I 2024-08-14 22:23:47,189] Trial 106 finished with value: 0.20047853087541279 and parameters: {'n_hidden': 16, 'activation function': 'linear', 'window_size': 5, 'l1': 3.8312581514881314e-08, 'l2': 1.0872298981752918e-06, 'dr': 0.2}. Best is trial 96 with value: 0.05557053542185644.\n"
     ]
    },
    {
     "name": "stdout",
     "output_type": "stream",
     "text": [
      "\u001b[1m25/25\u001b[0m \u001b[32m━━━━━━━━━━━━━━━━━━━━\u001b[0m\u001b[37m\u001b[0m \u001b[1m0s\u001b[0m 7ms/step\n"
     ]
    },
    {
     "data": {
      "application/vnd.jupyter.widget-view+json": {
       "model_id": "d197f15552bc4e2183c566d08ae475e3",
       "version_major": 2,
       "version_minor": 0
      },
      "text/plain": [
       "  0%|          | 0/294 [00:00<?, ?it/s]"
      ]
     },
     "metadata": {},
     "output_type": "display_data"
    },
    {
     "name": "stderr",
     "output_type": "stream",
     "text": [
      "[I 2024-08-14 22:25:24,933] Trial 107 finished with value: 0.08990904799619111 and parameters: {'n_hidden': 24, 'activation function': 'tanh', 'window_size': 5, 'l1': 1.3604900903111605e-05, 'l2': 2.712404794104206e-06, 'dr': 0.26}. Best is trial 96 with value: 0.05557053542185644.\n"
     ]
    },
    {
     "name": "stdout",
     "output_type": "stream",
     "text": [
      "\u001b[1m25/25\u001b[0m \u001b[32m━━━━━━━━━━━━━━━━━━━━\u001b[0m\u001b[37m\u001b[0m \u001b[1m0s\u001b[0m 7ms/step\n"
     ]
    },
    {
     "data": {
      "application/vnd.jupyter.widget-view+json": {
       "model_id": "148fdef116924d65aa8d8f7c62751100",
       "version_major": 2,
       "version_minor": 0
      },
      "text/plain": [
       "  0%|          | 0/294 [00:00<?, ?it/s]"
      ]
     },
     "metadata": {},
     "output_type": "display_data"
    },
    {
     "name": "stderr",
     "output_type": "stream",
     "text": [
      "[I 2024-08-14 22:26:53,996] Trial 108 finished with value: 0.07657677603061742 and parameters: {'n_hidden': 20, 'activation function': 'linear', 'window_size': 5, 'l1': 1.8521671187299887e-07, 'l2': 1.4577661292943524e-07, 'dr': 0.0}. Best is trial 96 with value: 0.05557053542185644.\n"
     ]
    },
    {
     "name": "stdout",
     "output_type": "stream",
     "text": [
      "\u001b[1m25/25\u001b[0m \u001b[32m━━━━━━━━━━━━━━━━━━━━\u001b[0m\u001b[37m\u001b[0m \u001b[1m0s\u001b[0m 7ms/step\n"
     ]
    },
    {
     "data": {
      "application/vnd.jupyter.widget-view+json": {
       "model_id": "93f378f2ee6a453f97abe4117eb05b99",
       "version_major": 2,
       "version_minor": 0
      },
      "text/plain": [
       "  0%|          | 0/294 [00:00<?, ?it/s]"
      ]
     },
     "metadata": {},
     "output_type": "display_data"
    },
    {
     "name": "stderr",
     "output_type": "stream",
     "text": [
      "[I 2024-08-14 22:28:56,799] Trial 109 finished with value: 0.4505715547714287 and parameters: {'n_hidden': 21, 'activation function': 'linear', 'window_size': 5, 'l1': 1.2359423870286162e-07, 'l2': 1.4236321467501503e-07, 'dr': 0.01}. Best is trial 96 with value: 0.05557053542185644.\n"
     ]
    },
    {
     "name": "stdout",
     "output_type": "stream",
     "text": [
      "\u001b[1m25/25\u001b[0m \u001b[32m━━━━━━━━━━━━━━━━━━━━\u001b[0m\u001b[37m\u001b[0m \u001b[1m0s\u001b[0m 8ms/step\n"
     ]
    },
    {
     "data": {
      "application/vnd.jupyter.widget-view+json": {
       "model_id": "e7fd0d24cbe745e2bf241cf1122e93a8",
       "version_major": 2,
       "version_minor": 0
      },
      "text/plain": [
       "  0%|          | 0/293 [00:00<?, ?it/s]"
      ]
     },
     "metadata": {},
     "output_type": "display_data"
    },
    {
     "name": "stderr",
     "output_type": "stream",
     "text": [
      "[I 2024-08-14 22:30:50,957] Trial 110 finished with value: 0.12281229423187902 and parameters: {'n_hidden': 20, 'activation function': 'linear', 'window_size': 6, 'l1': 7.799379753678848e-08, 'l2': 4.3732929356276264e-07, 'dr': 0.0}. Best is trial 96 with value: 0.05557053542185644.\n"
     ]
    }
   ],
   "source": [
    "import pickle \n",
    "try:\n",
    "    with open(\"tuna_study.obj\", \"rb\") as file:\n",
    "        study = pickle.load(file)\n",
    "        print(\"STUDY LOADED\")\n",
    "except:\n",
    "    study = optuna.create_study()\n",
    "    study.enqueue_trial(minimal_params)\n",
    "    wb = Workbook()\n",
    "    ws = wb.active\n",
    "    ws.title = \"GRU\"\n",
    "    ws.append(list(minimal_params.keys()) + [\"train loss\", \"val loss\", \"test loss\", \"offline loss\"])\n",
    "    wb.save(filename)\n",
    "    wb.close()\n",
    "\n",
    "study.optimize(tuna_obj, timeout=60*15) #timeout = seconds to run\n",
    "\n",
    "with open(\"tuna_study.obj\", \"wb\") as file:\n",
    "    pickle.dump(study, file)"
   ]
  },
  {
   "cell_type": "code",
   "execution_count": 7,
   "id": "e7dd2495-c23e-4d49-80cf-5e50b0406fd2",
   "metadata": {},
   "outputs": [],
   "source": [
    "# Obtaining the best model and saving it\n",
    "best_trial = study.best_trial\n",
    "best_model = best_trial.user_attrs['model']\n",
    "best_model.save('models/best_model.keras')\n",
    "\n",
    "del(best_model)\n",
    "best_model = keras.models.load_model(\"models/best_model.keras\")\n",
    "\n",
    "# Saving its best parameters\n",
    "best_params = best_trial.user_attrs['tuna_params']\n",
    "with open('models/best_model_params.txt', 'w') as f:\n",
    "    for key, value in best_params.items():\n",
    "        f.write(f'{key}: {value}\\n')"
   ]
  },
  {
   "cell_type": "code",
   "execution_count": 8,
   "id": "d4b8ca20-eca2-4732-a534-ef3a85b3be9f",
   "metadata": {},
   "outputs": [
    {
     "data": {
      "application/vnd.jupyter.widget-view+json": {
       "model_id": "5ee697ac8bd94d66b28c51c1ddad4c2e",
       "version_major": 2,
       "version_minor": 0
      },
      "text/plain": [
       "  0%|          | 0/295 [00:00<?, ?it/s]"
      ]
     },
     "metadata": {},
     "output_type": "display_data"
    }
   ],
   "source": [
    "dt = 0.5\n",
    "k = best_params[\"window_size\"]\n",
    "test = dataset_test[200:500]\n",
    "t_sim = t2[200:500]\n",
    "\n",
    "Y_off = test[:, -1]\n",
    "Y_pred = np.empty(t_sim.shape[0])\n",
    "\n",
    "Y_pred[0] = Y_off[0]\n",
    "U_off = test[:, :-1]\n",
    "\n",
    "Y_pred[: k + 1] = Y_off[: k + 1]\n",
    "\n",
    "for n in tqdm(range(k, t_sim.shape[0] - 1)):\n",
    "    data_input = np.column_stack((U_off[n - k : n], Y_pred[n - k : n]))\n",
    "    model_input = pre(data_input.reshape(-1, k, 3))\n",
    "    Y_pred[n + 1] = float(best_model.predict(model_input, verbose=0)[0,0])"
   ]
  },
  {
   "cell_type": "code",
   "execution_count": 9,
   "id": "3d4021b5-7798-4004-8e93-1ffbeca60ed3",
   "metadata": {},
   "outputs": [
    {
     "name": "stdout",
     "output_type": "stream",
     "text": [
      "0.05557053542185644\n"
     ]
    },
    {
     "data": {
      "image/png": "[encoded data removed]",
      "text/plain": [
       "<Figure size 640x480 with 1 Axes>"
      ]
     },
     "metadata": {},
     "output_type": "display_data"
    }
   ],
   "source": [
    "print(mse(Y_off, Y_pred))\n",
    "plt.plot(Y_off, c='k')\n",
    "plt.plot(Y_pred, c='r')\n",
    "np.savetxt(\"results/GRU/offline.csv\",np.column_stack((Y_off, Y_pred)), delimiter=\",\")"
   ]
  },
  {
   "cell_type": "code",
   "execution_count": 10,
   "id": "6583a6cd-8be5-4c68-8a04-e0b807367097",
   "metadata": {},
   "outputs": [
    {
     "name": "stdout",
     "output_type": "stream",
     "text": [
      "min_vals:[7.775      0.00948761 6.09657936]\n",
      "max_vals:[23.325       4.98955436  9.5441056 ]\n"
     ]
    }
   ],
   "source": [
    "print(pre)"
   ]
  },
  {
   "cell_type": "code",
   "execution_count": 11,
   "id": "e7dc5424-b44f-4275-938b-884eebb4d087",
   "metadata": {},
   "outputs": [],
   "source": [
    "with open(\"models/preprocessor.obj\", \"wb\") as f:\n",
    "    pickle.dump(pre, f)"
   ]
  },
  {
   "cell_type": "code",
   "execution_count": 12,
   "id": "8fedd478-f13b-49ae-9009-2edbc3df2416",
   "metadata": {},
   "outputs": [
    {
     "data": {
      "text/plain": [
       "[<matplotlib.lines.Line2D at 0x22e46c744a0>]"
      ]
     },
     "execution_count": 12,
     "metadata": {},
     "output_type": "execute_result"
    },
    {
     "data": {
      "image/png": "[encoded data removed]",
      "text/plain": [
       "<Figure size 640x480 with 1 Axes>"
      ]
     },
     "metadata": {},
     "output_type": "display_data"
    }
   ],
   "source": [
    "pid_x, pid_y = data_to_X_Y(pid11[:,1:], k)\n",
    "pid_x2, pid_y2 = data_to_X_Y(pid12[:,1:], k)\n",
    "pid_xfull = np.vstack([pid_x, pid_x2])\n",
    "pid_yfull = np.concatenate([pid_y, pid_y2])\n",
    "\n",
    "plt.plot(pid_yfull, c='k')\n",
    "plt.plot(best_model(pre(pid_xfull)))"
   ]
  }
 ],
 "metadata": {
  "kernelspec": {
   "display_name": "Python 3 (ipykernel)",
   "language": "python",
   "name": "python3"
  },
  "language_info": {
   "codemirror_mode": {
    "name": "ipython",
    "version": 3
   },
   "file_extension": ".py",
   "mimetype": "text/x-python",
   "name": "python",
   "nbconvert_exporter": "python",
   "pygments_lexer": "ipython3",
   "version": "3.12.4"
  }
 },
 "nbformat": 4,
 "nbformat_minor": 5
}
